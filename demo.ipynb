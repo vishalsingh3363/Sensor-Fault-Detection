{
 "cells": [
  {
   "cell_type": "markdown",
   "metadata": {},
   "source": []
  },
  {
   "cell_type": "code",
   "execution_count": 9,
   "metadata": {},
   "outputs": [],
   "source": [
    "import pandas as pd"
   ]
  },
  {
   "cell_type": "code",
   "execution_count": 2,
   "metadata": {},
   "outputs": [],
   "source": [
    "from scipy.stats import ks_2samp"
   ]
  },
  {
   "cell_type": "code",
   "execution_count": 16,
   "metadata": {},
   "outputs": [],
   "source": [
    "train_df = pd.read_csv(r\"C:\\Users\\HP\\OneDrive\\Desktop\\INDUSTRY READY PROJECTS\\Sensor-Fault-Detection\\artifact\\12_20_2022_16_45_47\\data_ingestion\\ingested\\train.csv\", encoding='latin1')"
   ]
  },
  {
   "cell_type": "code",
   "execution_count": 13,
   "metadata": {},
   "outputs": [],
   "source": [
    "test_df = pd.read_csv(r\"C:\\Users\\HP\\OneDrive\\Desktop\\INDUSTRY READY PROJECTS\\Sensor-Fault-Detection\\artifact\\12_20_2022_16_45_47\\data_ingestion\\ingested\\test.csv\", encoding='latin1')"
   ]
  },
  {
   "cell_type": "code",
   "execution_count": 17,
   "metadata": {},
   "outputs": [
    {
     "data": {
      "text/plain": [
       "Index(['class', 'aa_000', 'ab_000', 'ac_000', 'ad_000', 'ae_000', 'af_000',\n",
       "       'ag_000', 'ag_001', 'ag_002',\n",
       "       ...\n",
       "       'ee_002', 'ee_003', 'ee_004', 'ee_005', 'ee_006', 'ee_007', 'ee_008',\n",
       "       'ee_009', 'ef_000', 'eg_000'],\n",
       "      dtype='object', length=171)"
      ]
     },
     "execution_count": 17,
     "metadata": {},
     "output_type": "execute_result"
    }
   ],
   "source": [
    "train_df.columns"
   ]
  },
  {
   "cell_type": "code",
   "execution_count": 18,
   "metadata": {},
   "outputs": [
    {
     "data": {
      "text/plain": [
       "Index(['class', 'aa_000', 'ab_000', 'ac_000', 'ad_000', 'ae_000', 'af_000',\n",
       "       'ag_000', 'ag_001', 'ag_002',\n",
       "       ...\n",
       "       'ee_002', 'ee_003', 'ee_004', 'ee_005', 'ee_006', 'ee_007', 'ee_008',\n",
       "       'ee_009', 'ef_000', 'eg_000'],\n",
       "      dtype='object', length=171)"
      ]
     },
     "execution_count": 18,
     "metadata": {},
     "output_type": "execute_result"
    }
   ],
   "source": [
    "test_df.columns"
   ]
  },
  {
   "cell_type": "code",
   "execution_count": 19,
   "metadata": {},
   "outputs": [],
   "source": [
    "d1= train_df['aa_000']\n",
    "d2= test_df['aa_000']"
   ]
  },
  {
   "cell_type": "code",
   "execution_count": 20,
   "metadata": {},
   "outputs": [
    {
     "data": {
      "text/plain": [
       "KstestResult(statistic=0.028895373559207602, pvalue=0.5044923166651911)"
      ]
     },
     "execution_count": 20,
     "metadata": {},
     "output_type": "execute_result"
    }
   ],
   "source": [
    "ks_2samp(d1,d2)"
   ]
  },
  {
   "cell_type": "code",
   "execution_count": 21,
   "metadata": {},
   "outputs": [],
   "source": [
    "def get_drift_report(base_df,current_df,threshold=0.05):\n",
    "    report ={}\n",
    "    for column in base_df.columns:\n",
    "        d1 = base_df[column]\n",
    "        d2  = current_df[column]\n",
    "        is_same_dist = ks_2samp(d1,d2)\n",
    "        if threshold<=is_same_dist.pvalue:\n",
    "            is_found=False\n",
    "        else:\n",
    "            is_found = True \n",
    "        report.update({column:{\n",
    "            \"p_value\":float(is_same_dist.pvalue),\n",
    "            \"drift_status\":is_found\n",
    "            \n",
    "            }})\n",
    "    return report"
   ]
  },
  {
   "cell_type": "code",
   "execution_count": 22,
   "metadata": {},
   "outputs": [
    {
     "data": {
      "text/plain": [
       "{'class': {'p_value': 1.0, 'drift_status': False},\n",
       " 'aa_000': {'p_value': 0.5044923166651911, 'drift_status': False},\n",
       " 'ab_000': {'p_value': 0.9901449655908359, 'drift_status': False},\n",
       " 'ac_000': {'p_value': 0.8656325119469406, 'drift_status': False},\n",
       " 'ad_000': {'p_value': 0.703319873620541, 'drift_status': False},\n",
       " 'ae_000': {'p_value': 1.0, 'drift_status': False},\n",
       " 'af_000': {'p_value': 1.0, 'drift_status': False},\n",
       " 'ag_000': {'p_value': 1.0, 'drift_status': False},\n",
       " 'ag_001': {'p_value': 1.0, 'drift_status': False},\n",
       " 'ag_002': {'p_value': 0.9989545524468125, 'drift_status': False},\n",
       " 'ag_003': {'p_value': 0.7630175456324302, 'drift_status': False},\n",
       " 'ag_004': {'p_value': 0.8279969584907244, 'drift_status': False},\n",
       " 'ag_005': {'p_value': 0.39205117960320757, 'drift_status': False},\n",
       " 'ag_006': {'p_value': 0.7738320598449417, 'drift_status': False},\n",
       " 'ag_007': {'p_value': 0.7950547113675129, 'drift_status': False},\n",
       " 'ag_008': {'p_value': 0.9519536815060466, 'drift_status': False},\n",
       " 'ag_009': {'p_value': 0.9881238212107529, 'drift_status': False},\n",
       " 'ah_000': {'p_value': 0.4102046315541121, 'drift_status': False},\n",
       " 'ai_000': {'p_value': 0.9999246460029015, 'drift_status': False},\n",
       " 'aj_000': {'p_value': 0.996351771993628, 'drift_status': False},\n",
       " 'ak_000': {'p_value': 1.0, 'drift_status': False},\n",
       " 'al_000': {'p_value': 0.9447637247800076, 'drift_status': False},\n",
       " 'am_0': {'p_value': 0.992462601548773, 'drift_status': False},\n",
       " 'an_000': {'p_value': 0.5051498317589027, 'drift_status': False},\n",
       " 'ao_000': {'p_value': 0.3346537832076792, 'drift_status': False},\n",
       " 'ap_000': {'p_value': 0.5778174088247826, 'drift_status': False},\n",
       " 'aq_000': {'p_value': 0.36145477006955923, 'drift_status': False},\n",
       " 'ar_000': {'p_value': 1.0, 'drift_status': False},\n",
       " 'as_000': {'p_value': 1.0, 'drift_status': False},\n",
       " 'at_000': {'p_value': 0.9995957455611297, 'drift_status': False},\n",
       " 'au_000': {'p_value': 1.0, 'drift_status': False},\n",
       " 'av_000': {'p_value': 0.927885718510928, 'drift_status': False},\n",
       " 'ax_000': {'p_value': 0.6931052843657949, 'drift_status': False},\n",
       " 'ay_000': {'p_value': 0.9999999999997894, 'drift_status': False},\n",
       " 'ay_001': {'p_value': 0.99993719303575, 'drift_status': False},\n",
       " 'ay_002': {'p_value': 0.9998434634409924, 'drift_status': False},\n",
       " 'ay_003': {'p_value': 0.9999376494816066, 'drift_status': False},\n",
       " 'ay_004': {'p_value': 0.9998452751053353, 'drift_status': False},\n",
       " 'ay_005': {'p_value': 0.9692328522935162, 'drift_status': False},\n",
       " 'ay_006': {'p_value': 0.6851521170179777, 'drift_status': False},\n",
       " 'ay_007': {'p_value': 0.5959883777420802, 'drift_status': False},\n",
       " 'ay_008': {'p_value': 0.6742230281116204, 'drift_status': False},\n",
       " 'ay_009': {'p_value': 1.0, 'drift_status': False},\n",
       " 'az_000': {'p_value': 0.8993590909831058, 'drift_status': False},\n",
       " 'az_001': {'p_value': 0.4631473914589541, 'drift_status': False},\n",
       " 'az_002': {'p_value': 0.6574754020682148, 'drift_status': False},\n",
       " 'az_003': {'p_value': 0.7222194687872857, 'drift_status': False},\n",
       " 'az_004': {'p_value': 0.31868026183541753, 'drift_status': False},\n",
       " 'az_005': {'p_value': 0.22788174473648568, 'drift_status': False},\n",
       " 'az_006': {'p_value': 0.33389022956976316, 'drift_status': False},\n",
       " 'az_007': {'p_value': 0.5263761332010881, 'drift_status': False},\n",
       " 'az_008': {'p_value': 0.9883363811560022, 'drift_status': False},\n",
       " 'az_009': {'p_value': 1.0, 'drift_status': False},\n",
       " 'ba_000': {'p_value': 0.5175191879385406, 'drift_status': False},\n",
       " 'ba_001': {'p_value': 0.4946262345917231, 'drift_status': False},\n",
       " 'ba_002': {'p_value': 0.3708292746249036, 'drift_status': False},\n",
       " 'ba_003': {'p_value': 0.6930233812266372, 'drift_status': False},\n",
       " 'ba_004': {'p_value': 0.9075066892577704, 'drift_status': False},\n",
       " 'ba_005': {'p_value': 0.8427858182239443, 'drift_status': False},\n",
       " 'ba_006': {'p_value': 0.23725994140141918, 'drift_status': False},\n",
       " 'ba_007': {'p_value': 0.05209235657081474, 'drift_status': False},\n",
       " 'ba_008': {'p_value': 0.3019246248681563, 'drift_status': False},\n",
       " 'ba_009': {'p_value': 0.954417776432764, 'drift_status': False},\n",
       " 'bb_000': {'p_value': 0.5076477975676833, 'drift_status': False},\n",
       " 'bc_000': {'p_value': 0.7833977911679794, 'drift_status': False},\n",
       " 'bd_000': {'p_value': 0.524468226930282, 'drift_status': False},\n",
       " 'be_000': {'p_value': 0.7438353029606728, 'drift_status': False},\n",
       " 'bf_000': {'p_value': 0.8513992014211065, 'drift_status': False},\n",
       " 'bg_000': {'p_value': 0.4202998412226368, 'drift_status': False},\n",
       " 'bh_000': {'p_value': 0.3087137269290822, 'drift_status': False},\n",
       " 'bi_000': {'p_value': 0.28774552754631294, 'drift_status': False},\n",
       " 'bj_000': {'p_value': 0.353088824000876, 'drift_status': False},\n",
       " 'bk_000': {'p_value': 0.5595801535830226, 'drift_status': False},\n",
       " 'bl_000': {'p_value': 0.7139486428247879, 'drift_status': False},\n",
       " 'bm_000': {'p_value': 0.974108766596242, 'drift_status': False},\n",
       " 'bn_000': {'p_value': 0.9765000689554956, 'drift_status': False},\n",
       " 'bo_000': {'p_value': 0.9204042037843778, 'drift_status': False},\n",
       " 'bp_000': {'p_value': 0.940034533448539, 'drift_status': False},\n",
       " 'bq_000': {'p_value': 0.9407789739540101, 'drift_status': False},\n",
       " 'br_000': {'p_value': 0.9947520864306575, 'drift_status': False},\n",
       " 'bs_000': {'p_value': 0.47982850991045534, 'drift_status': False},\n",
       " 'bt_000': {'p_value': 0.4823211600042215, 'drift_status': False},\n",
       " 'bu_000': {'p_value': 0.5189012314127942, 'drift_status': False},\n",
       " 'bv_000': {'p_value': 0.5189012314127942, 'drift_status': False},\n",
       " 'bx_000': {'p_value': 0.4973021278942951, 'drift_status': False},\n",
       " 'by_000': {'p_value': 0.574333713042406, 'drift_status': False},\n",
       " 'bz_000': {'p_value': 0.5056517853756209, 'drift_status': False},\n",
       " 'ca_000': {'p_value': 0.27123291192248417, 'drift_status': False},\n",
       " 'cb_000': {'p_value': 0.5917404356598156, 'drift_status': False},\n",
       " 'cc_000': {'p_value': 0.5053734492614617, 'drift_status': False},\n",
       " 'cd_000': {'p_value': 1.0, 'drift_status': False},\n",
       " 'ce_000': {'p_value': 0.8434568204668074, 'drift_status': False},\n",
       " 'cf_000': {'p_value': 0.8822590351057827, 'drift_status': False},\n",
       " 'cg_000': {'p_value': 0.9173914247779793, 'drift_status': False},\n",
       " 'ch_000': {'p_value': 0.9999999999917542, 'drift_status': False},\n",
       " 'ci_000': {'p_value': 0.5169429367923789, 'drift_status': False},\n",
       " 'cj_000': {'p_value': 0.9605107417728955, 'drift_status': False},\n",
       " 'ck_000': {'p_value': 0.4319479543194963, 'drift_status': False},\n",
       " 'cl_000': {'p_value': 0.9999900198240279, 'drift_status': False},\n",
       " 'cm_000': {'p_value': 0.3120222526165883, 'drift_status': False},\n",
       " 'cn_000': {'p_value': 0.9999927861115603, 'drift_status': False},\n",
       " 'cn_001': {'p_value': 0.9943922471003137, 'drift_status': False},\n",
       " 'cn_002': {'p_value': 0.847037324615968, 'drift_status': False},\n",
       " 'cn_003': {'p_value': 0.1284907035119599, 'drift_status': False},\n",
       " 'cn_004': {'p_value': 0.6009492083112489, 'drift_status': False},\n",
       " 'cn_005': {'p_value': 0.7195772768470302, 'drift_status': False},\n",
       " 'cn_006': {'p_value': 0.6336593023446394, 'drift_status': False},\n",
       " 'cn_007': {'p_value': 0.8289424486237218, 'drift_status': False},\n",
       " 'cn_008': {'p_value': 0.8866589466501553, 'drift_status': False},\n",
       " 'cn_009': {'p_value': 0.9670828744937233, 'drift_status': False},\n",
       " 'co_000': {'p_value': 0.9815960871964686, 'drift_status': False},\n",
       " 'cp_000': {'p_value': 0.772039022833083, 'drift_status': False},\n",
       " 'cq_000': {'p_value': 0.5189012314127942, 'drift_status': False},\n",
       " 'cr_000': {'p_value': 0.9999978459128301, 'drift_status': False},\n",
       " 'cs_000': {'p_value': 0.964466100691952, 'drift_status': False},\n",
       " 'cs_001': {'p_value': 0.4831402710066383, 'drift_status': False},\n",
       " 'cs_002': {'p_value': 0.5060151123939564, 'drift_status': False},\n",
       " 'cs_003': {'p_value': 0.4305708272522812, 'drift_status': False},\n",
       " 'cs_004': {'p_value': 0.3637136248836217, 'drift_status': False},\n",
       " 'cs_005': {'p_value': 0.2624416945074165, 'drift_status': False},\n",
       " 'cs_006': {'p_value': 0.7334149167038935, 'drift_status': False},\n",
       " 'cs_007': {'p_value': 0.44987771776934854, 'drift_status': False},\n",
       " 'cs_008': {'p_value': 0.7631099255615215, 'drift_status': False},\n",
       " 'cs_009': {'p_value': 0.9999576771845865, 'drift_status': False},\n",
       " 'ct_000': {'p_value': 0.9635848382553676, 'drift_status': False},\n",
       " 'cu_000': {'p_value': 0.7576767527241421, 'drift_status': False},\n",
       " 'cv_000': {'p_value': 0.5057875649167619, 'drift_status': False},\n",
       " 'cx_000': {'p_value': 0.8907395791489964, 'drift_status': False},\n",
       " 'cy_000': {'p_value': 0.9990639116348581, 'drift_status': False},\n",
       " 'cz_000': {'p_value': 0.8233902480893964, 'drift_status': False},\n",
       " 'da_000': {'p_value': 0.9996757307167446, 'drift_status': False},\n",
       " 'db_000': {'p_value': 0.4302780444604234, 'drift_status': False},\n",
       " 'dc_000': {'p_value': 0.5744136588962722, 'drift_status': False},\n",
       " 'dd_000': {'p_value': 0.08613610430817743, 'drift_status': False},\n",
       " 'de_000': {'p_value': 0.3455511719573102, 'drift_status': False},\n",
       " 'df_000': {'p_value': 0.9998215437859211, 'drift_status': False},\n",
       " 'dg_000': {'p_value': 0.9994344758547208, 'drift_status': False},\n",
       " 'dh_000': {'p_value': 0.9733938030758714, 'drift_status': False},\n",
       " 'di_000': {'p_value': 0.7647739439122536, 'drift_status': False},\n",
       " 'dj_000': {'p_value': 1.0, 'drift_status': False},\n",
       " 'dk_000': {'p_value': 1.0, 'drift_status': False},\n",
       " 'dl_000': {'p_value': 1.0, 'drift_status': False},\n",
       " 'dm_000': {'p_value': 1.0, 'drift_status': False},\n",
       " 'dn_000': {'p_value': 0.2618849540279507, 'drift_status': False},\n",
       " 'do_000': {'p_value': 0.8207159236494261, 'drift_status': False},\n",
       " 'dp_000': {'p_value': 0.5143951393720606, 'drift_status': False},\n",
       " 'dq_000': {'p_value': 0.9684540874934351, 'drift_status': False},\n",
       " 'dr_000': {'p_value': 0.9431790602975952, 'drift_status': False},\n",
       " 'ds_000': {'p_value': 0.8185990500373425, 'drift_status': False},\n",
       " 'dt_000': {'p_value': 0.819538788936739, 'drift_status': False},\n",
       " 'du_000': {'p_value': 0.03658993968673531, 'drift_status': True},\n",
       " 'dv_000': {'p_value': 0.03130804681563197, 'drift_status': True},\n",
       " 'dx_000': {'p_value': 0.8473009322958126, 'drift_status': False},\n",
       " 'dy_000': {'p_value': 0.6306142209948018, 'drift_status': False},\n",
       " 'dz_000': {'p_value': 0.9999999999075985, 'drift_status': False},\n",
       " 'ea_000': {'p_value': 0.9999576094409659, 'drift_status': False},\n",
       " 'eb_000': {'p_value': 0.6675752442112698, 'drift_status': False},\n",
       " 'ec_00': {'p_value': 0.9878911829250796, 'drift_status': False},\n",
       " 'ed_000': {'p_value': 0.6689501904904214, 'drift_status': False},\n",
       " 'ee_000': {'p_value': 0.4315704111317744, 'drift_status': False},\n",
       " 'ee_001': {'p_value': 0.22113597556681774, 'drift_status': False},\n",
       " 'ee_002': {'p_value': 0.5087446376862509, 'drift_status': False},\n",
       " 'ee_003': {'p_value': 0.8410769559374568, 'drift_status': False},\n",
       " 'ee_004': {'p_value': 0.7079858338856404, 'drift_status': False},\n",
       " 'ee_005': {'p_value': 0.624604459150103, 'drift_status': False},\n",
       " 'ee_006': {'p_value': 0.5445956936689662, 'drift_status': False},\n",
       " 'ee_007': {'p_value': 0.5453318594091031, 'drift_status': False},\n",
       " 'ee_008': {'p_value': 0.9345679380356419, 'drift_status': False},\n",
       " 'ee_009': {'p_value': 0.7804223443899967, 'drift_status': False},\n",
       " 'ef_000': {'p_value': 0.9999999999973882, 'drift_status': False},\n",
       " 'eg_000': {'p_value': 0.9999999999996655, 'drift_status': False}}"
      ]
     },
     "execution_count": 22,
     "metadata": {},
     "output_type": "execute_result"
    }
   ],
   "source": [
    "drift_report = get_drift_report(train_df,test_df)\n",
    "drift_report"
   ]
  },
  {
   "cell_type": "code",
   "execution_count": 24,
   "metadata": {},
   "outputs": [],
   "source": [
    "from sensor.utils.main_utils import write_yaml_file"
   ]
  },
  {
   "cell_type": "code",
   "execution_count": 25,
   "metadata": {},
   "outputs": [],
   "source": [
    "write_yaml_file(file_path=os.path.join(os.getcwd(),\"report.yaml\"),content=drift_report,replace=True)\n"
   ]
  },
  {
   "cell_type": "code",
   "execution_count": 26,
   "metadata": {},
   "outputs": [],
   "source": [
    "from sensor.ml.model.estimator import TargetValueMapping"
   ]
  },
  {
   "cell_type": "code",
   "execution_count": 27,
   "metadata": {},
   "outputs": [
    {
     "ename": "SyntaxError",
     "evalue": "invalid syntax (2809147500.py, line 1)",
     "output_type": "error",
     "traceback": [
      "\u001b[1;36m  Cell \u001b[1;32mIn[27], line 1\u001b[1;36m\u001b[0m\n\u001b[1;33m    .to_dict()TargetValueMapping()\u001b[0m\n\u001b[1;37m    ^\u001b[0m\n\u001b[1;31mSyntaxError\u001b[0m\u001b[1;31m:\u001b[0m invalid syntax\n"
     ]
    }
   ],
   "source": [
    ".to_dict()TargetValueMapping()"
   ]
  },
  {
   "cell_type": "code",
   "execution_count": 28,
   "metadata": {},
   "outputs": [
    {
     "data": {
      "text/plain": [
       "{0: 'neg', 1: 'pos'}"
      ]
     },
     "execution_count": 28,
     "metadata": {},
     "output_type": "execute_result"
    }
   ],
   "source": [
    "TargetValueMapping().reverse_mapping()\n"
   ]
  },
  {
   "cell_type": "code",
   "execution_count": null,
   "metadata": {},
   "outputs": [],
   "source": []
  }
 ],
 "metadata": {
  "kernelspec": {
   "display_name": "Python 3.8.0",
   "language": "python",
   "name": "python3"
  },
  "language_info": {
   "codemirror_mode": {
    "name": "ipython",
    "version": 3
   },
   "file_extension": ".py",
   "mimetype": "text/x-python",
   "name": "python",
   "nbconvert_exporter": "python",
   "pygments_lexer": "ipython3",
   "version": "3.8.0"
  },
  "orig_nbformat": 4,
  "vscode": {
   "interpreter": {
    "hash": "ffce40c28dbcb851c32e7eca347bac961b80d055768c5321d496f6350179e026"
   }
  }
 },
 "nbformat": 4,
 "nbformat_minor": 2
}
